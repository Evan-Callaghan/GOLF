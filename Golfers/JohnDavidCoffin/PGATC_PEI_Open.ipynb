{
 "cells": [
  {
   "cell_type": "markdown",
   "id": "a7c7b65a-587a-4033-b730-fdbf2a00ff5d",
   "metadata": {},
   "source": [
    "## Querrying database for PGATC: PEI Open data"
   ]
  },
  {
   "cell_type": "code",
   "execution_count": 1,
   "id": "177b720e-2507-47ed-876a-5c5fec297038",
   "metadata": {},
   "outputs": [],
   "source": [
    "## Importing libraries\n",
    "\n",
    "import pandas as pd\n",
    "import numpy as np\n",
    "import sys; sys.path.insert(1, '/Users/EvanCallaghan/Documents/Golf/StrokesGained/GOLF/GlobalScripts')\n",
    "pd.set_option('display.max_rows', None, 'display.max_columns', None)\n",
    "import sg_script as sg\n",
    "import sg_script_editor as sg_editor\n",
    "import sg_script_multiple_rounds as sg_multiple"
   ]
  },
  {
   "cell_type": "code",
   "execution_count": 2,
   "id": "1abadc4a-1ed2-4fa4-b4ee-2c0c37708fc7",
   "metadata": {},
   "outputs": [],
   "source": [
    "## Reading the data\n",
    "\n",
    "baselines = pd.read_excel('/Users/EvanCallaghan/Documents/Golf/StrokesGained/Database/Baselines.xlsx')\n",
    "courses = pd.read_excel('/Users/EvanCallaghan/Documents/Golf/StrokesGained/Database/Courses.xlsx')\n",
    "golfers = pd.read_excel('/Users/EvanCallaghan/Documents/Golf/StrokesGained/Database/Golfers.xlsx')\n",
    "rounds = pd.read_excel('/Users/EvanCallaghan/Documents/Golf/StrokesGained/Database/Rounds.xlsx')\n",
    "shots = pd.read_excel('/Users/EvanCallaghan/Documents/Golf/StrokesGained/Database/Shots.xlsx')"
   ]
  },
  {
   "cell_type": "markdown",
   "id": "aadc4f3c-acf5-4399-bfdf-c22ca0dbcaf0",
   "metadata": {},
   "source": [
    "## Individual round analysis:"
   ]
  },
  {
   "cell_type": "code",
   "execution_count": 3,
   "id": "36497ece-1b5d-4a1a-8b8a-ba53dc494843",
   "metadata": {},
   "outputs": [],
   "source": [
    "## Subsetting the data for the correct golfer and round\n",
    "golfer = golfers[golfers['Name'] == 'John David Coffin'].reset_index(drop = True)\n",
    "rd = rounds[rounds['roundID'] == 1055].reset_index(drop = True)\n",
    "shot = shots[shots['roundID'] == 1055].reset_index(drop = True)\n",
    "course = courses[(courses['courseID'] == rd.at[0, 'courseID']) & (courses['Tees'] == rd.at[0, 'Tees'])].reset_index(drop = True)\n",
    "\n",
    "## Creating complete data-frame for analysis\n",
    "shotLevel, roundLevel = sg.initialize(shot, rd, course, baselines)\n",
    "\n",
    "## Exporting data-frames for analysis:\n",
    "shotLevel.to_csv('/Users/EvanCallaghan/Documents/Golf/StrokesGained/Reporting/shotLevel.csv', index = False)\n",
    "roundLevel.to_csv('/Users/EvanCallaghan/Documents/Golf/StrokesGained/Reporting/roundLevel.csv', index = False)\n",
    "course.to_csv('/Users/EvanCallaghan/Documents/Golf/StrokesGained/Reporting/courseLevel.csv', index = False)"
   ]
  },
  {
   "cell_type": "markdown",
   "id": "07df1c70-d7f0-49e3-94e5-8f26a669660e",
   "metadata": {},
   "source": [
    "## Multiple round analysis"
   ]
  },
  {
   "cell_type": "code",
   "execution_count": null,
   "id": "2518acee-ff17-4b44-987d-028169888231",
   "metadata": {},
   "outputs": [],
   "source": [
    "## Subsetting the data for the correct golfer and rounds\n",
    "golfer = golfers[golfers['Name'] == 'Evan Callaghan'].reset_index(drop = True)\n",
    "rds = rounds[(rounds['Name'] == 'Evan Callaghan') & (rounds['roundID'] >= 1030)].reset_index(drop = True)\n",
    "shot = shots[np.isin(shots['roundID'], rds['roundID'].unique())].reset_index(drop = True)\n",
    "\n",
    "rds['courseTeeCombo'] = rds['Course'] + rds['Tees']\n",
    "courses['courseTeeCombo'] = courses['Course'] + courses['Tees']\n",
    "course = courses[np.isin(courses['courseTeeCombo'], rds['courseTeeCombo'].unique())].reset_index(drop = True)\n",
    "\n",
    "## Creating complete data-frame for analysis\n",
    "shotLevel, roundLevel = sg_multiple.initialize(shot, rds, course, baselines)\n",
    "\n",
    "## Exporting data-frames for analysis:\n",
    "shotLevel.to_csv('/Users/EvanCallaghan/Documents/Golf/StrokesGained/Reporting/shotLevelMultiple.csv', index = False)\n",
    "roundLevel.to_csv('/Users/EvanCallaghan/Documents/Golf/StrokesGained/Reporting/roundLevelMultiple.csv', index = False)"
   ]
  }
 ],
 "metadata": {
  "kernelspec": {
   "display_name": "Python 3 (ipykernel)",
   "language": "python",
   "name": "python3"
  },
  "language_info": {
   "codemirror_mode": {
    "name": "ipython",
    "version": 3
   },
   "file_extension": ".py",
   "mimetype": "text/x-python",
   "name": "python",
   "nbconvert_exporter": "python",
   "pygments_lexer": "ipython3",
   "version": "3.9.12"
  }
 },
 "nbformat": 4,
 "nbformat_minor": 5
}
