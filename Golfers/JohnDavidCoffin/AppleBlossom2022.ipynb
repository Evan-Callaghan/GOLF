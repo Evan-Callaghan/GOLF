{
 "cells": [
  {
   "cell_type": "markdown",
   "metadata": {},
   "source": [
    "## Apple Blossom 2022 Report"
   ]
  },
  {
   "cell_type": "code",
   "execution_count": 6,
   "metadata": {},
   "outputs": [],
   "source": [
    "## Importing libraries\n",
    "\n",
    "import pandas as pd\n",
    "import numpy as np\n",
    "import math\n",
    "import sys; sys.path.insert(1, '/Users/EvanCallaghan/Documents/Golf/StrokesGained/GOLF/GlobalScripts')\n",
    "pd.set_option('display.max_rows', None, 'display.max_columns', None)\n",
    "import sg_script as sg"
   ]
  },
  {
   "cell_type": "code",
   "execution_count": 7,
   "metadata": {},
   "outputs": [],
   "source": [
    "## Reading the data\n",
    "\n",
    "baselines = pd.read_excel('/Users/EvanCallaghan/Documents/Golf/StrokesGained/Database/Baselines.xlsx')\n",
    "courses = pd.read_excel('/Users/EvanCallaghan/Documents/Golf/StrokesGained/Database/Courses.xlsx')\n",
    "golfers = pd.read_excel('/Users/EvanCallaghan/Documents/Golf/StrokesGained/Database/Golfers.xlsx')\n",
    "rounds = pd.read_excel('/Users/EvanCallaghan/Documents/Golf/StrokesGained/Database/Rounds.xlsx')\n",
    "shots = pd.read_excel('/Users/EvanCallaghan/Documents/Golf/StrokesGained/Database/Shots.xlsx')"
   ]
  },
  {
   "cell_type": "code",
   "execution_count": 8,
   "metadata": {},
   "outputs": [],
   "source": [
    "## Subsetting the data for the correct golfer and month\n",
    "\n",
    "## Golfer\n",
    "golfer = golfers[golfers['golferID'] == 7].reset_index(drop = True)\n",
    "\n",
    "## Rounds\n",
    "rounds = rounds[rounds['golferID'] == 7].reset_index(drop = True)\n",
    "\n",
    "## Shots\n",
    "shot = shots[(shots['roundID'] == 1024) | (shots['roundID'] == 1025)]"
   ]
  },
  {
   "cell_type": "code",
   "execution_count": 9,
   "metadata": {},
   "outputs": [],
   "source": [
    "## Creating complete data-frame for analysis\n",
    "\n",
    "shotLevel = sg.initialize(shot, rounds, courses, baselines)"
   ]
  },
  {
   "cell_type": "code",
   "execution_count": 12,
   "metadata": {},
   "outputs": [
    {
     "data": {
      "text/plain": [
       "1025    75\n",
       "1024    72\n",
       "Name: roundID, dtype: int64"
      ]
     },
     "execution_count": 12,
     "metadata": {},
     "output_type": "execute_result"
    }
   ],
   "source": [
    "shotLevel['roundID'].value_counts()"
   ]
  },
  {
   "cell_type": "code",
   "execution_count": 19,
   "metadata": {},
   "outputs": [],
   "source": [
    "categories = pd.DataFrame(shotLevel.groupby(['roundID', 'shotCategory'])['strokesGained'].sum()).reset_index(drop = False)\n",
    "\n",
    "roundIDs = categories['roundID'].unique()\n",
    "\n",
    "empty_df = pd.DataFrame()\n",
    "\n",
    "for rd in roundIDs:\n",
    "    \n",
    "    round_temp = categories[categories['roundID'] == rd].drop(columns = 'roundID')\n",
    "    round_temp = pd.DataFrame(round_temp.groupby('shotCategory')['strokesGained'].sum()).T.reset_index(drop = True)\n",
    "    round_temp['roundID'] = rd\n",
    "    empty_df = pd.concat([empty_df, round_temp], axis = 0).reset_index(drop = True)"
   ]
  },
  {
   "cell_type": "code",
   "execution_count": 20,
   "metadata": {},
   "outputs": [
    {
     "data": {
      "text/html": [
       "<div>\n",
       "<style scoped>\n",
       "    .dataframe tbody tr th:only-of-type {\n",
       "        vertical-align: middle;\n",
       "    }\n",
       "\n",
       "    .dataframe tbody tr th {\n",
       "        vertical-align: top;\n",
       "    }\n",
       "\n",
       "    .dataframe thead th {\n",
       "        text-align: right;\n",
       "    }\n",
       "</style>\n",
       "<table border=\"1\" class=\"dataframe\">\n",
       "  <thead>\n",
       "    <tr style=\"text-align: right;\">\n",
       "      <th>shotCategory</th>\n",
       "      <th>Approach</th>\n",
       "      <th>Around-the-Green</th>\n",
       "      <th>Putt</th>\n",
       "      <th>Tee</th>\n",
       "      <th>roundID</th>\n",
       "    </tr>\n",
       "  </thead>\n",
       "  <tbody>\n",
       "    <tr>\n",
       "      <th>0</th>\n",
       "      <td>-4.08</td>\n",
       "      <td>0.07</td>\n",
       "      <td>0.85</td>\n",
       "      <td>-0.47</td>\n",
       "      <td>1024</td>\n",
       "    </tr>\n",
       "    <tr>\n",
       "      <th>1</th>\n",
       "      <td>0.03</td>\n",
       "      <td>-1.65</td>\n",
       "      <td>-4.76</td>\n",
       "      <td>-2.24</td>\n",
       "      <td>1025</td>\n",
       "    </tr>\n",
       "  </tbody>\n",
       "</table>\n",
       "</div>"
      ],
      "text/plain": [
       "shotCategory  Approach  Around-the-Green  Putt   Tee  roundID\n",
       "0                -4.08              0.07  0.85 -0.47     1024\n",
       "1                 0.03             -1.65 -4.76 -2.24     1025"
      ]
     },
     "execution_count": 20,
     "metadata": {},
     "output_type": "execute_result"
    }
   ],
   "source": [
    "empty_df"
   ]
  },
  {
   "cell_type": "code",
   "execution_count": 5,
   "metadata": {},
   "outputs": [],
   "source": [
    "## Exporting data-frames for analysis:\n",
    "\n",
    "shotLevel.to_csv('/Users/EvanCallaghan/Documents/Golf/StrokesGained/Reporting/Test/AppleBlossom.csv', index = False)\n",
    "rounds.to_csv('/Users/EvanCallaghan/Documents/Golf/StrokesGained/Reporting/Test/AppleBlossomRounds.csv', index = False)"
   ]
  }
 ],
 "metadata": {
  "kernelspec": {
   "display_name": "Python 3",
   "language": "python",
   "name": "python3"
  },
  "language_info": {
   "codemirror_mode": {
    "name": "ipython",
    "version": 3
   },
   "file_extension": ".py",
   "mimetype": "text/x-python",
   "name": "python",
   "nbconvert_exporter": "python",
   "pygments_lexer": "ipython3",
   "version": "3.8.3"
  }
 },
 "nbformat": 4,
 "nbformat_minor": 4
}
