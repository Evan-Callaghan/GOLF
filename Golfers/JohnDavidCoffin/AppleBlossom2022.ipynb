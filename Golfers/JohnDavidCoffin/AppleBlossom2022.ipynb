{
 "cells": [
  {
   "cell_type": "markdown",
   "metadata": {},
   "source": [
    "## Apple Blossom 2022 Report"
   ]
  },
  {
   "cell_type": "code",
   "execution_count": 16,
   "metadata": {},
   "outputs": [],
   "source": [
    "## Importing libraries\n",
    "\n",
    "import pandas as pd\n",
    "import numpy as np\n",
    "import sys; sys.path.insert(1, '/Users/EvanCallaghan/Documents/Golf/StrokesGained/GOLF/GlobalScripts')\n",
    "pd.set_option('display.max_rows', None, 'display.max_columns', None)\n",
    "import GOLF_script as golf"
   ]
  },
  {
   "cell_type": "code",
   "execution_count": 17,
   "metadata": {},
   "outputs": [],
   "source": [
    "## Reading the data\n",
    "\n",
    "baselines = pd.read_excel('/Users/EvanCallaghan/Documents/Golf/StrokesGained/Database/Baselines.xlsx')\n",
    "courses = pd.read_excel('/Users/EvanCallaghan/Documents/Golf/StrokesGained/Database/Courses.xlsx')\n",
    "golfers = pd.read_excel('/Users/EvanCallaghan/Documents/Golf/StrokesGained/Database/Golfers.xlsx')\n",
    "rounds = pd.read_excel('/Users/EvanCallaghan/Documents/Golf/StrokesGained/Database/Rounds.xlsx')\n",
    "shots = pd.read_excel('/Users/EvanCallaghan/Documents/Golf/StrokesGained/Database/Shots.xlsx')"
   ]
  },
  {
   "cell_type": "code",
   "execution_count": 18,
   "metadata": {},
   "outputs": [],
   "source": [
    "## Subsetting the data for the correct golfer and month\n",
    "\n",
    "## Golfer\n",
    "golfer = golfers[golfers['golferID'] == 7].reset_index(drop = True)\n",
    "\n",
    "## Rounds\n",
    "rds = rounds[rounds['golferID'] == 7].reset_index(drop = True)\n",
    "\n",
    "## Shots\n",
    "shot = shots[(shots['roundID'] == 1024) | (shots['roundID'] == 1025)]"
   ]
  },
  {
   "cell_type": "code",
   "execution_count": 19,
   "metadata": {},
   "outputs": [],
   "source": [
    "## Creating complete data-frame for analysis\n",
    "\n",
    "strokes = golf.initialize(shot, rds, courses, baselines)"
   ]
  },
  {
   "cell_type": "code",
   "execution_count": 21,
   "metadata": {},
   "outputs": [
    {
     "data": {
      "text/plain": [
       "Index(['shotID', 'roundID', 'holeNumber', 'shotNumber', 'nextLocation',\n",
       "       'nextLocationLieType', 'penaltyIncurred', 'teeShotMiss', 'courseID',\n",
       "       'Tees', 'holesPlayed', 'Course', 'holeYardage', 'holePar',\n",
       "       'shotCategory', 'Location', 'locationLieType', 'locationBL',\n",
       "       'nextLocationBL', 'penaltyStrokeValue', 'strokesGained', 'grossStrokes',\n",
       "       'Putt', 'Fairway', 'GIR'],\n",
       "      dtype='object')"
      ]
     },
     "execution_count": 21,
     "metadata": {},
     "output_type": "execute_result"
    }
   ],
   "source": [
    "strokes.columns"
   ]
  },
  {
   "cell_type": "code",
   "execution_count": 22,
   "metadata": {},
   "outputs": [],
   "source": [
    "strokes = strokes[['roundID', 'Tees', 'holesPlayed', 'Course', 'holeNumber','holePar', 'holeYardage', 'shotNumber', 'shotCategory', 'Location', 'locationLieType',\n",
    "       'locationBL', 'nextLocation', 'nextLocationLieType', 'nextLocationBL', 'penaltyStrokeValue', 'strokesGained', 'teeShotMiss',\n",
    "       'grossStrokes', 'Putt', 'Fairway', 'GIR']]"
   ]
  },
  {
   "cell_type": "code",
   "execution_count": 23,
   "metadata": {},
   "outputs": [],
   "source": [
    "strokes.to_csv('/Users/EvanCallaghan/Documents/Golf/StrokesGained/Reporting/Test/AppleBlossom.csv', index = False)"
   ]
  }
 ],
 "metadata": {
  "kernelspec": {
   "display_name": "Python 3",
   "language": "python",
   "name": "python3"
  },
  "language_info": {
   "codemirror_mode": {
    "name": "ipython",
    "version": 3
   },
   "file_extension": ".py",
   "mimetype": "text/x-python",
   "name": "python",
   "nbconvert_exporter": "python",
   "pygments_lexer": "ipython3",
   "version": "3.8.3"
  }
 },
 "nbformat": 4,
 "nbformat_minor": 4
}
