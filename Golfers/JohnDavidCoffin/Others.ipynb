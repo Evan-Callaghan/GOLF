{
 "cells": [
  {
   "cell_type": "code",
   "execution_count": 1,
   "id": "5e732398-d67a-4c4a-a0aa-9bd0a190322a",
   "metadata": {},
   "outputs": [],
   "source": [
    "## Importing libraries\n",
    "\n",
    "import pandas as pd\n",
    "import numpy as np\n",
    "import sys; sys.path.insert(1, '/Users/EvanCallaghan/Documents/Golf/StrokesGained/GOLF/GlobalScripts')\n",
    "pd.set_option('display.max_rows', None, 'display.max_columns', None)\n",
    "import sg_script as sg\n",
    "import sg_script_editor as sg_editor\n",
    "import sg_script_multiple_rounds as sg_multiple"
   ]
  },
  {
   "cell_type": "code",
   "execution_count": 2,
   "id": "f598b336-486b-4d5f-b2e7-dd717fa11552",
   "metadata": {},
   "outputs": [],
   "source": [
    "## Reading the data\n",
    "\n",
    "baselines = pd.read_excel('/Users/EvanCallaghan/Documents/Golf/StrokesGained/Database/Baselines.xlsx')\n",
    "courses = pd.read_excel('/Users/EvanCallaghan/Documents/Golf/StrokesGained/Database/Courses.xlsx')\n",
    "golfers = pd.read_excel('/Users/EvanCallaghan/Documents/Golf/StrokesGained/Database/Golfers.xlsx')\n",
    "rounds = pd.read_excel('/Users/EvanCallaghan/Documents/Golf/StrokesGained/Database/Rounds.xlsx')\n",
    "shots = pd.read_excel('/Users/EvanCallaghan/Documents/Golf/StrokesGained/Database/Shots.xlsx')"
   ]
  },
  {
   "cell_type": "code",
   "execution_count": 3,
   "id": "a6f7fcff-8869-4df5-b1f1-d8c3eaa10a47",
   "metadata": {},
   "outputs": [],
   "source": [
    "## Subsetting the data for the correct golfer and round\n",
    "golfer = golfers[golfers['Name'] == 'John David Coffin'].reset_index(drop = True)\n",
    "rd = rounds[rounds['roundID'] == 1067].reset_index(drop = True)\n",
    "shot = shots[shots['roundID'] == 1067].reset_index(drop = True)\n",
    "course = courses[(courses['courseID'] == rd.at[0, 'courseID']) & (courses['Tees'] == rd.at[0, 'Tees'])].reset_index(drop = True)\n",
    "\n",
    "## Creating complete data-frame for analysis\n",
    "shotLevel, roundLevel = sg.initialize(shot, rd, course, baselines)\n",
    "\n",
    "## Exporting data-frames for analysis:\n",
    "shotLevel.to_csv('/Users/EvanCallaghan/Documents/Golf/StrokesGained/Reporting/shotLevel.csv', index = False)\n",
    "roundLevel.to_csv('/Users/EvanCallaghan/Documents/Golf/StrokesGained/Reporting/roundLevel.csv', index = False)\n",
    "course.to_csv('/Users/EvanCallaghan/Documents/Golf/StrokesGained/Reporting/courseLevel.csv', index = False)"
   ]
  },
  {
   "cell_type": "markdown",
   "id": "6390ea78-63ef-48a4-8c7c-6b2abfc1263c",
   "metadata": {},
   "source": [
    "### Multiple round analysis"
   ]
  },
  {
   "cell_type": "code",
   "execution_count": null,
   "id": "b59b4cbe-cb09-4b3d-8333-679a16c1bf30",
   "metadata": {},
   "outputs": [],
   "source": [
    "## Subsetting the data for the correct golfer and rounds\n",
    "golfer = golfers[golfers['Name'] == 'John David Coffin'].reset_index(drop = True)\n",
    "rds = rounds[(rounds['Name'] == 'John David Coffin') & (rounds['roundID'] >= 1010)].reset_index(drop = True)\n",
    "shot = shots[np.isin(shots['roundID'], rds['roundID'].unique())].reset_index(drop = True)\n",
    "\n",
    "rds['courseTeeCombo'] = rds['Course'] + rds['Tees']\n",
    "courses['courseTeeCombo'] = courses['Course'] + courses['Tees']\n",
    "course = courses[np.isin(courses['courseTeeCombo'], rds['courseTeeCombo'].unique())].reset_index(drop = True)\n",
    "\n",
    "## Creating complete data-frame for analysis\n",
    "shotLevel, roundLevel = sg_multiple.initialize(shot, rds, course, baselines)\n",
    "\n",
    "# ## Exporting data-frames for analysis:\n",
    "# shotLevel.to_csv('/Users/EvanCallaghan/Documents/Golf/StrokesGained/Reporting/shotLevelMultiple.csv', index = False)\n",
    "# roundLevel.to_csv('/Users/EvanCallaghan/Documents/Golf/StrokesGained/Reporting/roundLevelMultiple.csv', index = False)"
   ]
  },
  {
   "cell_type": "code",
   "execution_count": null,
   "id": "3c692a47-2693-4c9c-b179-13473aee616b",
   "metadata": {},
   "outputs": [],
   "source": [
    "roundLevel"
   ]
  },
  {
   "cell_type": "code",
   "execution_count": null,
   "id": "38c01d45-0427-4436-a68a-ff0ebdd05ae9",
   "metadata": {},
   "outputs": [],
   "source": [
    "pd.DataFrame(roundLevel[['SG: Total', 'OTT', 'APP', 'ATG', 'PUTT']].mean())"
   ]
  },
  {
   "cell_type": "code",
   "execution_count": null,
   "id": "b3eaee37-ac21-474c-b425-61f49adccfec",
   "metadata": {},
   "outputs": [],
   "source": []
  }
 ],
 "metadata": {
  "kernelspec": {
   "display_name": "Python 3 (ipykernel)",
   "language": "python",
   "name": "python3"
  },
  "language_info": {
   "codemirror_mode": {
    "name": "ipython",
    "version": 3
   },
   "file_extension": ".py",
   "mimetype": "text/x-python",
   "name": "python",
   "nbconvert_exporter": "python",
   "pygments_lexer": "ipython3",
   "version": "3.9.12"
  }
 },
 "nbformat": 4,
 "nbformat_minor": 5
}
