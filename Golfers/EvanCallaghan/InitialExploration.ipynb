{
 "cells": [
  {
   "cell_type": "markdown",
   "metadata": {},
   "source": [
    "## Initial exploration of Strokes Gained Database"
   ]
  },
  {
   "cell_type": "code",
   "execution_count": 1,
   "metadata": {},
   "outputs": [],
   "source": [
    "## Importing libraries\n",
    "\n",
    "import pandas as pd\n",
    "import numpy as np\n",
    "import sys; sys.path.insert(1, '/Users/EvanCallaghan/Documents/Golf/StrokesGained/GOLF/GlobalScripts')\n",
    "pd.set_option('display.max_rows', None, 'display.max_columns', None)\n",
    "import GOLF_script as golf"
   ]
  },
  {
   "cell_type": "code",
   "execution_count": 2,
   "metadata": {},
   "outputs": [],
   "source": [
    "## Reading the data\n",
    "\n",
    "baselines = pd.read_excel('/Users/EvanCallaghan/Documents/Golf/StrokesGained/Database/Baselines.xlsx')\n",
    "courses = pd.read_excel('/Users/EvanCallaghan/Documents/Golf/StrokesGained/Database/Courses.xlsx')\n",
    "golfers = pd.read_excel('/Users/EvanCallaghan/Documents/Golf/StrokesGained/Database/Golfers.xlsx')\n",
    "rounds = pd.read_excel('/Users/EvanCallaghan/Documents/Golf/StrokesGained/Database/Rounds.xlsx')\n",
    "shots = pd.read_excel('/Users/EvanCallaghan/Documents/Golf/StrokesGained/Database/Shots.xlsx')"
   ]
  },
  {
   "cell_type": "markdown",
   "metadata": {
    "tags": []
   },
   "source": [
    "### Sample Strokes Gained Report for September 2021 Rounds"
   ]
  },
  {
   "cell_type": "code",
   "execution_count": null,
   "metadata": {},
   "outputs": [],
   "source": [
    "## Subsetting the data for the correct golfer and month\n",
    "\n",
    "## Golfer\n",
    "golfer = golfers[golfers['golferID'] == 1].reset_index(drop = True)\n",
    "\n",
    "## Rounds\n",
    "rds = rounds[rounds['golferID'] == 1].reset_index(drop = True)\n",
    "\n",
    "for i in range(0, rds.shape[0]):\n",
    "    if (rds.at[i, 'Date'].month != 9):\n",
    "        rds.drop(i, axis = 0, inplace = True)        \n",
    "rds = rds.reset_index(drop = True)\n",
    "\n",
    "## Shots\n",
    "shot = shots[np.isin(shots['roundID'], rds['roundID'].values)].reset_index(drop = True)"
   ]
  },
  {
   "cell_type": "code",
   "execution_count": null,
   "metadata": {},
   "outputs": [],
   "source": [
    "strokes = golf.initialize(shot, rds, courses, baselines)"
   ]
  },
  {
   "cell_type": "code",
   "execution_count": null,
   "metadata": {},
   "outputs": [],
   "source": [
    "strokes['roundID'].nunique()"
   ]
  },
  {
   "cell_type": "code",
   "execution_count": null,
   "metadata": {},
   "outputs": [],
   "source": [
    "strokes.head()"
   ]
  },
  {
   "cell_type": "code",
   "execution_count": null,
   "metadata": {},
   "outputs": [],
   "source": [
    "strokes.groupby(['roundID'])['holesPlayed'].max().sum()"
   ]
  },
  {
   "cell_type": "code",
   "execution_count": null,
   "metadata": {},
   "outputs": [],
   "source": [
    "strokes.groupby(['roundID', 'shotCategory'])['strokesGained'].sum()"
   ]
  },
  {
   "cell_type": "code",
   "execution_count": null,
   "metadata": {},
   "outputs": [],
   "source": []
  },
  {
   "cell_type": "markdown",
   "metadata": {},
   "source": [
    "### Sample Strokes Gained Report for roundID 1000"
   ]
  },
  {
   "cell_type": "code",
   "execution_count": null,
   "metadata": {},
   "outputs": [],
   "source": [
    "## Subsetting the data for the correct golfer and month\n",
    "\n",
    "## Golfer\n",
    "golfer = golfers[golfers['golferID'] == 1].reset_index(drop = True)\n",
    "\n",
    "## Rounds\n",
    "rds = rounds[rounds['golferID'] == 1].reset_index(drop = True)\n",
    "\n",
    "## Shots\n",
    "shot = shots[shots['roundID'] == 1000]"
   ]
  },
  {
   "cell_type": "code",
   "execution_count": null,
   "metadata": {},
   "outputs": [],
   "source": [
    "strokes = golf.initialize(shot, rds, courses, baselines)"
   ]
  },
  {
   "cell_type": "code",
   "execution_count": null,
   "metadata": {},
   "outputs": [],
   "source": [
    "## Subsetting the data-frame for only necessary variables\n",
    "\n",
    "strokes = strokes[['roundID', 'holeNumber','holePar', 'holeYardage', 'shotNumber', 'shotCategory', 'Location', 'locationLieType',\n",
    "       'locationBL', 'nextLocation', 'nextLocationLieType', 'nextLocationBL', 'penaltyStrokeValue', 'strokesGained',\n",
    "       'grossStrokes', 'Putt', 'Fairway', 'GIR']]"
   ]
  },
  {
   "cell_type": "code",
   "execution_count": null,
   "metadata": {},
   "outputs": [],
   "source": [
    "strokes['grossStrokes'].sum()"
   ]
  },
  {
   "cell_type": "code",
   "execution_count": null,
   "metadata": {},
   "outputs": [],
   "source": [
    "strokes['strokesGained'].sum()"
   ]
  },
  {
   "cell_type": "code",
   "execution_count": null,
   "metadata": {},
   "outputs": [],
   "source": [
    "strokes.groupby('shotCategory')['strokesGained'].sum()"
   ]
  },
  {
   "cell_type": "code",
   "execution_count": null,
   "metadata": {},
   "outputs": [],
   "source": [
    "strokes.groupby('shotCategory')['strokesGained'].max()"
   ]
  },
  {
   "cell_type": "markdown",
   "metadata": {},
   "source": [
    "#### John David Testing Data"
   ]
  },
  {
   "cell_type": "code",
   "execution_count": 3,
   "metadata": {},
   "outputs": [],
   "source": [
    "## Subsetting the data for the correct golfer and month\n",
    "\n",
    "## Golfer\n",
    "golfer = golfers[golfers['golferID'] == 7].reset_index(drop = True)\n",
    "\n",
    "## Rounds\n",
    "rds = rounds[rounds['golferID'] == 7].reset_index(drop = True)\n",
    "\n",
    "## Shots\n",
    "shot = shots[shots['roundID'] == 1025]"
   ]
  },
  {
   "cell_type": "code",
   "execution_count": 4,
   "metadata": {},
   "outputs": [],
   "source": [
    "strokes = golf.initialize(shot, rds, courses, baselines)"
   ]
  },
  {
   "cell_type": "code",
   "execution_count": 5,
   "metadata": {},
   "outputs": [
    {
     "data": {
      "text/plain": [
       "76"
      ]
     },
     "execution_count": 5,
     "metadata": {},
     "output_type": "execute_result"
    }
   ],
   "source": [
    "strokes['grossStrokes'].sum()"
   ]
  },
  {
   "cell_type": "code",
   "execution_count": 6,
   "metadata": {},
   "outputs": [
    {
     "data": {
      "text/plain": [
       "-8.360000000000001"
      ]
     },
     "execution_count": 6,
     "metadata": {},
     "output_type": "execute_result"
    }
   ],
   "source": [
    "strokes['strokesGained'].sum()"
   ]
  },
  {
   "cell_type": "code",
   "execution_count": 7,
   "metadata": {},
   "outputs": [
    {
     "data": {
      "text/plain": [
       "shotCategory\n",
       "Approach           -0.71\n",
       "Around-the-Green   -1.65\n",
       "Putt               -4.76\n",
       "Tee                -1.24\n",
       "Name: strokesGained, dtype: float64"
      ]
     },
     "execution_count": 7,
     "metadata": {},
     "output_type": "execute_result"
    }
   ],
   "source": [
    "strokes.groupby('shotCategory')['strokesGained'].sum()"
   ]
  },
  {
   "cell_type": "code",
   "execution_count": 8,
   "metadata": {},
   "outputs": [
    {
     "data": {
      "text/plain": [
       "grossStrokes    76\n",
       "Fairway         10\n",
       "GIR             12\n",
       "Putt            34\n",
       "dtype: int64"
      ]
     },
     "execution_count": 8,
     "metadata": {},
     "output_type": "execute_result"
    }
   ],
   "source": [
    "strokes[['grossStrokes', 'Fairway', 'GIR', 'Putt']].sum()"
   ]
  },
  {
   "cell_type": "code",
   "execution_count": 10,
   "metadata": {},
   "outputs": [
    {
     "data": {
      "text/plain": [
       "Left     3\n",
       "Right    1\n",
       "Name: teeShotMiss, dtype: int64"
      ]
     },
     "execution_count": 10,
     "metadata": {},
     "output_type": "execute_result"
    }
   ],
   "source": [
    "strokes['teeShotMiss'].value_counts()"
   ]
  }
 ],
 "metadata": {
  "kernelspec": {
   "display_name": "Python 3",
   "language": "python",
   "name": "python3"
  },
  "language_info": {
   "codemirror_mode": {
    "name": "ipython",
    "version": 3
   },
   "file_extension": ".py",
   "mimetype": "text/x-python",
   "name": "python",
   "nbconvert_exporter": "python",
   "pygments_lexer": "ipython3",
   "version": "3.8.3"
  }
 },
 "nbformat": 4,
 "nbformat_minor": 4
}
