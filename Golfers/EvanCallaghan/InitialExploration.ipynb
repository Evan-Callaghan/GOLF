{
 "cells": [
  {
   "cell_type": "markdown",
   "metadata": {},
   "source": [
    "## Initial exploration of Strokes Gained Database"
   ]
  },
  {
   "cell_type": "code",
   "execution_count": 1,
   "metadata": {},
   "outputs": [],
   "source": [
    "## Importing libraries\n",
    "\n",
    "import pandas as pd\n",
    "import numpy as np\n",
    "import sys; sys.path.insert(1, '/Users/EvanCallaghan/Documents/Golf/StrokesGained/GOLF/GlobalScripts')\n",
    "pd.set_option('display.max_rows', None, 'display.max_columns', None)\n",
    "import GOLF_script as golf"
   ]
  },
  {
   "cell_type": "code",
   "execution_count": 2,
   "metadata": {},
   "outputs": [],
   "source": [
    "## Reading the data\n",
    "\n",
    "baselines = pd.read_excel('/Users/EvanCallaghan/Documents/Golf/StrokesGained/Database/Baselines.xlsx')\n",
    "courses = pd.read_excel('/Users/EvanCallaghan/Documents/Golf/StrokesGained/Database/Courses.xlsx')\n",
    "golfers = pd.read_excel('/Users/EvanCallaghan/Documents/Golf/StrokesGained/Database/Golfers.xlsx')\n",
    "rounds = pd.read_excel('/Users/EvanCallaghan/Documents/Golf/StrokesGained/Database/Rounds.xlsx')\n",
    "shots = pd.read_excel('/Users/EvanCallaghan/Documents/Golf/StrokesGained/Database/Shots.xlsx')"
   ]
  },
  {
   "cell_type": "markdown",
   "metadata": {
    "tags": []
   },
   "source": [
    "### Sample Strokes Gained Report for September 2021 Rounds"
   ]
  },
  {
   "cell_type": "code",
   "execution_count": 3,
   "metadata": {},
   "outputs": [],
   "source": [
    "## Subsetting the data for the correct golfer and month\n",
    "\n",
    "## Golfer\n",
    "golfer = golfers[golfers['golferID'] == 1].reset_index(drop = True)\n",
    "\n",
    "## Rounds\n",
    "rds = rounds[rounds['golferID'] == 1].reset_index(drop = True)\n",
    "\n",
    "for i in range(0, rds.shape[0]):\n",
    "    if (rds.at[i, 'Date'].month != 9):\n",
    "        rds.drop(i, axis = 0, inplace = True)        \n",
    "rds = rds.reset_index(drop = True)\n",
    "\n",
    "## Shots\n",
    "shot = shots[np.isin(shots['roundID'], rds['roundID'].values)].reset_index(drop = True)"
   ]
  },
  {
   "cell_type": "code",
   "execution_count": 5,
   "metadata": {},
   "outputs": [],
   "source": [
    "strokes = golf.initialize(shot, rds, courses, baselines)"
   ]
  },
  {
   "cell_type": "code",
   "execution_count": 6,
   "metadata": {},
   "outputs": [
    {
     "data": {
      "text/plain": [
       "7"
      ]
     },
     "execution_count": 6,
     "metadata": {},
     "output_type": "execute_result"
    }
   ],
   "source": [
    "strokes['roundID'].nunique()"
   ]
  },
  {
   "cell_type": "code",
   "execution_count": 7,
   "metadata": {},
   "outputs": [
    {
     "data": {
      "text/html": [
       "<div>\n",
       "<style scoped>\n",
       "    .dataframe tbody tr th:only-of-type {\n",
       "        vertical-align: middle;\n",
       "    }\n",
       "\n",
       "    .dataframe tbody tr th {\n",
       "        vertical-align: top;\n",
       "    }\n",
       "\n",
       "    .dataframe thead th {\n",
       "        text-align: right;\n",
       "    }\n",
       "</style>\n",
       "<table border=\"1\" class=\"dataframe\">\n",
       "  <thead>\n",
       "    <tr style=\"text-align: right;\">\n",
       "      <th></th>\n",
       "      <th>shotID</th>\n",
       "      <th>roundID</th>\n",
       "      <th>holeNumber</th>\n",
       "      <th>shotNumber</th>\n",
       "      <th>nextLocation</th>\n",
       "      <th>nextLocationLieType</th>\n",
       "      <th>penaltyIncurred</th>\n",
       "      <th>courseID</th>\n",
       "      <th>Tees</th>\n",
       "      <th>holesPlayed</th>\n",
       "      <th>Course</th>\n",
       "      <th>holeYardage</th>\n",
       "      <th>holePar</th>\n",
       "      <th>shotCategory</th>\n",
       "      <th>Location</th>\n",
       "      <th>locationLieType</th>\n",
       "      <th>locationBL</th>\n",
       "      <th>nextLocationBL</th>\n",
       "      <th>penaltyStrokeValue</th>\n",
       "      <th>strokesGained</th>\n",
       "      <th>grossStrokes</th>\n",
       "      <th>Putt</th>\n",
       "      <th>Fairway</th>\n",
       "      <th>GIR</th>\n",
       "    </tr>\n",
       "  </thead>\n",
       "  <tbody>\n",
       "    <tr>\n",
       "      <th>0</th>\n",
       "      <td>1000000</td>\n",
       "      <td>1000</td>\n",
       "      <td>1</td>\n",
       "      <td>1</td>\n",
       "      <td>86.0</td>\n",
       "      <td>Fairway</td>\n",
       "      <td>NaN</td>\n",
       "      <td>1</td>\n",
       "      <td>Black</td>\n",
       "      <td>18</td>\n",
       "      <td>Otter Creek</td>\n",
       "      <td>374</td>\n",
       "      <td>4</td>\n",
       "      <td>Tee</td>\n",
       "      <td>374.0</td>\n",
       "      <td>Tee</td>\n",
       "      <td>3.95</td>\n",
       "      <td>2.76</td>\n",
       "      <td>0</td>\n",
       "      <td>0.19</td>\n",
       "      <td>1</td>\n",
       "      <td>0</td>\n",
       "      <td>1</td>\n",
       "      <td>0</td>\n",
       "    </tr>\n",
       "    <tr>\n",
       "      <th>1</th>\n",
       "      <td>1000001</td>\n",
       "      <td>1000</td>\n",
       "      <td>1</td>\n",
       "      <td>2</td>\n",
       "      <td>3.0</td>\n",
       "      <td>Green</td>\n",
       "      <td>NaN</td>\n",
       "      <td>1</td>\n",
       "      <td>Black</td>\n",
       "      <td>18</td>\n",
       "      <td>Otter Creek</td>\n",
       "      <td>374</td>\n",
       "      <td>4</td>\n",
       "      <td>Approach</td>\n",
       "      <td>86.0</td>\n",
       "      <td>Fairway</td>\n",
       "      <td>2.76</td>\n",
       "      <td>1.56</td>\n",
       "      <td>0</td>\n",
       "      <td>0.20</td>\n",
       "      <td>1</td>\n",
       "      <td>0</td>\n",
       "      <td>0</td>\n",
       "      <td>1</td>\n",
       "    </tr>\n",
       "    <tr>\n",
       "      <th>2</th>\n",
       "      <td>1000002</td>\n",
       "      <td>1000</td>\n",
       "      <td>1</td>\n",
       "      <td>3</td>\n",
       "      <td>1.0</td>\n",
       "      <td>Green</td>\n",
       "      <td>NaN</td>\n",
       "      <td>1</td>\n",
       "      <td>Black</td>\n",
       "      <td>18</td>\n",
       "      <td>Otter Creek</td>\n",
       "      <td>374</td>\n",
       "      <td>4</td>\n",
       "      <td>Putt</td>\n",
       "      <td>3.0</td>\n",
       "      <td>Green</td>\n",
       "      <td>1.56</td>\n",
       "      <td>1.04</td>\n",
       "      <td>0</td>\n",
       "      <td>-0.48</td>\n",
       "      <td>1</td>\n",
       "      <td>1</td>\n",
       "      <td>0</td>\n",
       "      <td>0</td>\n",
       "    </tr>\n",
       "    <tr>\n",
       "      <th>3</th>\n",
       "      <td>1000003</td>\n",
       "      <td>1000</td>\n",
       "      <td>1</td>\n",
       "      <td>4</td>\n",
       "      <td>0.0</td>\n",
       "      <td>Hole</td>\n",
       "      <td>NaN</td>\n",
       "      <td>1</td>\n",
       "      <td>Black</td>\n",
       "      <td>18</td>\n",
       "      <td>Otter Creek</td>\n",
       "      <td>374</td>\n",
       "      <td>4</td>\n",
       "      <td>Putt</td>\n",
       "      <td>1.0</td>\n",
       "      <td>Green</td>\n",
       "      <td>1.04</td>\n",
       "      <td>0.00</td>\n",
       "      <td>0</td>\n",
       "      <td>0.04</td>\n",
       "      <td>1</td>\n",
       "      <td>1</td>\n",
       "      <td>0</td>\n",
       "      <td>0</td>\n",
       "    </tr>\n",
       "    <tr>\n",
       "      <th>4</th>\n",
       "      <td>1000004</td>\n",
       "      <td>1000</td>\n",
       "      <td>2</td>\n",
       "      <td>1</td>\n",
       "      <td>123.0</td>\n",
       "      <td>Rough</td>\n",
       "      <td>NaN</td>\n",
       "      <td>1</td>\n",
       "      <td>Black</td>\n",
       "      <td>18</td>\n",
       "      <td>Otter Creek</td>\n",
       "      <td>389</td>\n",
       "      <td>4</td>\n",
       "      <td>Tee</td>\n",
       "      <td>389.0</td>\n",
       "      <td>Tee</td>\n",
       "      <td>3.97</td>\n",
       "      <td>3.09</td>\n",
       "      <td>0</td>\n",
       "      <td>-0.12</td>\n",
       "      <td>1</td>\n",
       "      <td>0</td>\n",
       "      <td>0</td>\n",
       "      <td>0</td>\n",
       "    </tr>\n",
       "  </tbody>\n",
       "</table>\n",
       "</div>"
      ],
      "text/plain": [
       "    shotID  roundID  holeNumber  shotNumber  nextLocation nextLocationLieType  \\\n",
       "0  1000000     1000           1           1          86.0             Fairway   \n",
       "1  1000001     1000           1           2           3.0               Green   \n",
       "2  1000002     1000           1           3           1.0               Green   \n",
       "3  1000003     1000           1           4           0.0                Hole   \n",
       "4  1000004     1000           2           1         123.0               Rough   \n",
       "\n",
       "  penaltyIncurred  courseID   Tees  holesPlayed       Course  holeYardage  \\\n",
       "0             NaN         1  Black           18  Otter Creek          374   \n",
       "1             NaN         1  Black           18  Otter Creek          374   \n",
       "2             NaN         1  Black           18  Otter Creek          374   \n",
       "3             NaN         1  Black           18  Otter Creek          374   \n",
       "4             NaN         1  Black           18  Otter Creek          389   \n",
       "\n",
       "   holePar shotCategory  Location locationLieType  locationBL  nextLocationBL  \\\n",
       "0        4          Tee     374.0             Tee        3.95            2.76   \n",
       "1        4     Approach      86.0         Fairway        2.76            1.56   \n",
       "2        4         Putt       3.0           Green        1.56            1.04   \n",
       "3        4         Putt       1.0           Green        1.04            0.00   \n",
       "4        4          Tee     389.0             Tee        3.97            3.09   \n",
       "\n",
       "   penaltyStrokeValue  strokesGained  grossStrokes  Putt  Fairway  GIR  \n",
       "0                   0           0.19             1     0        1    0  \n",
       "1                   0           0.20             1     0        0    1  \n",
       "2                   0          -0.48             1     1        0    0  \n",
       "3                   0           0.04             1     1        0    0  \n",
       "4                   0          -0.12             1     0        0    0  "
      ]
     },
     "execution_count": 7,
     "metadata": {},
     "output_type": "execute_result"
    }
   ],
   "source": [
    "strokes.head()"
   ]
  },
  {
   "cell_type": "code",
   "execution_count": 9,
   "metadata": {},
   "outputs": [
    {
     "data": {
      "text/plain": [
       "126"
      ]
     },
     "execution_count": 9,
     "metadata": {},
     "output_type": "execute_result"
    }
   ],
   "source": [
    "strokes.groupby(['roundID'])['holesPlayed'].max().sum()"
   ]
  },
  {
   "cell_type": "code",
   "execution_count": 10,
   "metadata": {},
   "outputs": [
    {
     "data": {
      "text/plain": [
       "roundID  shotCategory    \n",
       "1000     Approach           -2.99\n",
       "         Around-the-Green    1.99\n",
       "         Putt               -0.02\n",
       "         Tee                -1.42\n",
       "1001     Approach           -2.78\n",
       "         Around-the-Green   -0.27\n",
       "         Putt               -2.90\n",
       "         Tee                -4.49\n",
       "1004     Approach           -5.79\n",
       "         Around-the-Green    0.82\n",
       "         Putt                0.27\n",
       "         Tee                -3.74\n",
       "1013     Approach           -8.68\n",
       "         Around-the-Green   -0.38\n",
       "         Putt               -1.95\n",
       "         Tee                -1.61\n",
       "1014     Approach           -6.16\n",
       "         Around-the-Green   -0.92\n",
       "         Putt               -1.74\n",
       "         Tee                -0.70\n",
       "1019     Approach           -4.12\n",
       "         Around-the-Green   -0.58\n",
       "         Putt                0.02\n",
       "         Tee                -0.76\n",
       "1020     Approach           -2.84\n",
       "         Around-the-Green    0.61\n",
       "         Putt                0.20\n",
       "         Tee                -0.41\n",
       "Name: strokesGained, dtype: float64"
      ]
     },
     "execution_count": 10,
     "metadata": {},
     "output_type": "execute_result"
    }
   ],
   "source": [
    "strokes.groupby(['roundID', 'shotCategory'])['strokesGained'].sum()"
   ]
  },
  {
   "cell_type": "code",
   "execution_count": null,
   "metadata": {},
   "outputs": [],
   "source": []
  },
  {
   "cell_type": "markdown",
   "metadata": {},
   "source": [
    "### Sample Strokes Gained Report for roundID 1000"
   ]
  },
  {
   "cell_type": "code",
   "execution_count": null,
   "metadata": {},
   "outputs": [],
   "source": [
    "## Subsetting the data for the correct golfer and month\n",
    "\n",
    "## Golfer\n",
    "golfer = golfers[golfers['golferID'] == 1].reset_index(drop = True)\n",
    "\n",
    "## Rounds\n",
    "rds = rounds[rounds['golferID'] == 1].reset_index(drop = True)\n",
    "\n",
    "## Shots\n",
    "shot = shots[shots['roundID'] == 1000]"
   ]
  },
  {
   "cell_type": "code",
   "execution_count": null,
   "metadata": {},
   "outputs": [],
   "source": [
    "strokes = golf.initialize(shot, rds, courses, baselines)"
   ]
  },
  {
   "cell_type": "code",
   "execution_count": null,
   "metadata": {},
   "outputs": [],
   "source": [
    "## Subsetting the data-frame for only necessary variables\n",
    "\n",
    "strokes = strokes[['roundID', 'holeNumber','holePar', 'holeYardage', 'shotNumber', 'shotCategory', 'Location', 'locationLieType',\n",
    "       'locationBL', 'nextLocation', 'nextLocationLieType', 'nextLocationBL', 'penaltyStrokeValue', 'strokesGained',\n",
    "       'grossStrokes', 'Putt', 'Fairway', 'GIR']]"
   ]
  },
  {
   "cell_type": "code",
   "execution_count": null,
   "metadata": {},
   "outputs": [],
   "source": [
    "strokes['grossStrokes'].sum()"
   ]
  },
  {
   "cell_type": "code",
   "execution_count": null,
   "metadata": {},
   "outputs": [],
   "source": [
    "strokes['penaltyStrokeValue'].sum()"
   ]
  },
  {
   "cell_type": "code",
   "execution_count": null,
   "metadata": {},
   "outputs": [],
   "source": [
    "strokes['strokesGained'].sum()"
   ]
  },
  {
   "cell_type": "code",
   "execution_count": null,
   "metadata": {},
   "outputs": [],
   "source": [
    "strokes.groupby('shotCategory')['strokesGained'].sum()"
   ]
  },
  {
   "cell_type": "code",
   "execution_count": null,
   "metadata": {},
   "outputs": [],
   "source": [
    "strokes.groupby('shotCategory')['strokesGained'].max()"
   ]
  }
 ],
 "metadata": {
  "kernelspec": {
   "display_name": "Python 3",
   "language": "python",
   "name": "python3"
  },
  "language_info": {
   "codemirror_mode": {
    "name": "ipython",
    "version": 3
   },
   "file_extension": ".py",
   "mimetype": "text/x-python",
   "name": "python",
   "nbconvert_exporter": "python",
   "pygments_lexer": "ipython3",
   "version": "3.8.3"
  }
 },
 "nbformat": 4,
 "nbformat_minor": 4
}
