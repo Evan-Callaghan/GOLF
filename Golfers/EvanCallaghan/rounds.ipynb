{
 "cells": [
  {
   "cell_type": "code",
   "execution_count": 1,
   "metadata": {},
   "outputs": [],
   "source": [
    "## Importing libraries\n",
    "\n",
    "import pandas as pd\n",
    "import numpy as np\n",
    "import sys; sys.path.insert(1, '/Users/EvanCallaghan/Documents/Golf/StrokesGained/GOLF/GlobalScripts')\n",
    "pd.set_option('display.max_rows', None, 'display.max_columns', None)\n",
    "import sg_script as sg\n",
    "import sg_script_editor as sg_editor"
   ]
  },
  {
   "cell_type": "code",
   "execution_count": 2,
   "metadata": {},
   "outputs": [],
   "source": [
    "## Reading the data\n",
    "\n",
    "baselines = pd.read_excel('/Users/EvanCallaghan/Documents/Golf/StrokesGained/Database/Baselines.xlsx')\n",
    "courses = pd.read_excel('/Users/EvanCallaghan/Documents/Golf/StrokesGained/Database/Courses.xlsx')\n",
    "golfers = pd.read_excel('/Users/EvanCallaghan/Documents/Golf/StrokesGained/Database/Golfers.xlsx')\n",
    "rounds = pd.read_excel('/Users/EvanCallaghan/Documents/Golf/StrokesGained/Database/Rounds.xlsx')\n",
    "shots = pd.read_excel('/Users/EvanCallaghan/Documents/Golf/StrokesGained/Database/Shots.xlsx')"
   ]
  },
  {
   "cell_type": "markdown",
   "metadata": {},
   "source": [
    "## Individual round analysis:"
   ]
  },
  {
   "cell_type": "code",
   "execution_count": 3,
   "metadata": {},
   "outputs": [],
   "source": [
    "## Subsetting the data for the correct golfer and round\n",
    "golfer = golfers[golfers['Name'] == 'Evan Callaghan'].reset_index(drop = True)\n",
    "rd = rounds[rounds['roundID'] == 1030].reset_index(drop = True)\n",
    "shot = shots[shots['roundID'] == 1030].reset_index(drop = True)\n",
    "course = courses[(courses['courseID'] == rd.at[0, 'courseID']) & (courses['Tees'] == rd.at[0, 'Tees'])].reset_index(drop = True)\n",
    "\n",
    "## Creating complete data-frame for analysis\n",
    "shotLevel, roundLevel = sg.initialize(shot, rd, course, baselines)\n",
    "\n",
    "## Exporting data-frames for analysis:\n",
    "shotLevel.to_csv('/Users/EvanCallaghan/Documents/Golf/StrokesGained/Reporting/shotLevel.csv', index = False)\n",
    "roundLevel.to_csv('/Users/EvanCallaghan/Documents/Golf/StrokesGained/Reporting/roundLevel.csv', index = False)\n",
    "courses.to_csv('/Users/EvanCallaghan/Documents/Golf/StrokesGained/Reporting/courseLevel.csv', index = False)"
   ]
  },
  {
   "cell_type": "code",
   "execution_count": 21,
   "metadata": {},
   "outputs": [],
   "source": [
    "## Subsetting the data for the correct golfer and rounds\n",
    "\n",
    "## Golfer\n",
    "golfer = golfers[golfers['Name'] == 'Evan Callaghan'].reset_index(drop = True)\n",
    "\n",
    "## Rounds\n",
    "rds = rounds[(rounds['Name'] == 'Evan Callaghan') & (rounds['roundID'] >= 1030)].reset_index(drop = True)\n",
    "\n",
    "## Shots\n",
    "rds_unique = rds['roundID'].unique()\n",
    "shot = shots[np.isin(shots['roundID'], rds_unique)].reset_index(drop = True)\n",
    "\n",
    "## Course\n",
    "course = courses[(courses['courseID'] == rounds.at[0, 'courseID']) & (courses['Tees'] == rounds.at[0, 'Tees'])].reset_index(drop = True)\n",
    "\n",
    "# ## Creating complete data-frame for analysis\n",
    "# shotLevel, roundLevel = sg.initialize(shot, rds, courses, baselines)"
   ]
  },
  {
   "cell_type": "code",
   "execution_count": 16,
   "metadata": {},
   "outputs": [
    {
     "data": {
      "text/plain": [
       "array([False, False, False, ..., False, False, False])"
      ]
     },
     "execution_count": 16,
     "metadata": {},
     "output_type": "execute_result"
    }
   ],
   "source": [
    "np.isin(shots['roundID'], rds_unique)"
   ]
  },
  {
   "cell_type": "code",
   "execution_count": 11,
   "metadata": {},
   "outputs": [
    {
     "data": {
      "text/plain": [
       "array([1030, 1032, 1038])"
      ]
     },
     "execution_count": 11,
     "metadata": {},
     "output_type": "execute_result"
    }
   ],
   "source": [
    "rds['roundID'].unique()"
   ]
  },
  {
   "cell_type": "code",
   "execution_count": 13,
   "metadata": {},
   "outputs": [
    {
     "data": {
      "text/plain": [
       "array([ True, False, False])"
      ]
     },
     "execution_count": 13,
     "metadata": {},
     "output_type": "execute_result"
    }
   ],
   "source": [
    "np.isin(rds['roundID'].unique(), [1030])"
   ]
  },
  {
   "cell_type": "code",
   "execution_count": null,
   "metadata": {},
   "outputs": [],
   "source": [
    "## Exporting data-frames for analysis:\n",
    "\n",
    "shotLevel.to_csv('/Users/EvanCallaghan/Documents/Golf/StrokesGained/Reporting/shotLevel.csv', index = False)\n",
    "roundLevel.to_csv('/Users/EvanCallaghan/Documents/Golf/StrokesGained/Reporting/roundLevel.csv', index = False)\n",
    "courses.to_csv('/Users/EvanCallaghan/Documents/Golf/StrokesGained/Reporting/courseLevel.csv', index = False)"
   ]
  },
  {
   "cell_type": "code",
   "execution_count": null,
   "metadata": {},
   "outputs": [],
   "source": []
  }
 ],
 "metadata": {
  "kernelspec": {
   "display_name": "Python 3",
   "language": "python",
   "name": "python3"
  },
  "language_info": {
   "codemirror_mode": {
    "name": "ipython",
    "version": 3
   },
   "file_extension": ".py",
   "mimetype": "text/x-python",
   "name": "python",
   "nbconvert_exporter": "python",
   "pygments_lexer": "ipython3",
   "version": "3.8.3"
  }
 },
 "nbformat": 4,
 "nbformat_minor": 4
}
