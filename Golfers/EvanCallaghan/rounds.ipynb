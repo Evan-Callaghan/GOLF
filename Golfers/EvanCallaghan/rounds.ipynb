{
 "cells": [
  {
   "cell_type": "code",
   "execution_count": 6,
   "metadata": {},
   "outputs": [],
   "source": [
    "## Importing libraries\n",
    "\n",
    "import pandas as pd\n",
    "import numpy as np\n",
    "import sys; sys.path.insert(1, '/Users/EvanCallaghan/Documents/Golf/StrokesGained/GOLF/GlobalScripts')\n",
    "pd.set_option('display.max_rows', None, 'display.max_columns', None)\n",
    "import sg_script as sg"
   ]
  },
  {
   "cell_type": "code",
   "execution_count": 7,
   "metadata": {},
   "outputs": [],
   "source": [
    "## Reading the data\n",
    "\n",
    "baselines = pd.read_excel('/Users/EvanCallaghan/Documents/Golf/StrokesGained/Database/Baselines.xlsx')\n",
    "courses = pd.read_excel('/Users/EvanCallaghan/Documents/Golf/StrokesGained/Database/Courses.xlsx')\n",
    "golfers = pd.read_excel('/Users/EvanCallaghan/Documents/Golf/StrokesGained/Database/Golfers.xlsx')\n",
    "rounds = pd.read_excel('/Users/EvanCallaghan/Documents/Golf/StrokesGained/Database/Rounds.xlsx')\n",
    "shots = pd.read_excel('/Users/EvanCallaghan/Documents/Golf/StrokesGained/Database/Shots.xlsx')"
   ]
  },
  {
   "cell_type": "code",
   "execution_count": 9,
   "metadata": {},
   "outputs": [],
   "source": [
    "## Subsetting the data for the correct golfer and round\n",
    "\n",
    "## Golfer\n",
    "golfer = golfers[golfers['Name'] == 'Evan Callaghan'].reset_index(drop = True)\n",
    "\n",
    "## Rounds\n",
    "rounds = rounds[rounds['roundID'] == 1030].reset_index(drop = True)\n",
    "\n",
    "## Shots\n",
    "shot = shots[shots['roundID'] == 1030].reset_index(drop = True)\n",
    "\n",
    "## Course\n",
    "courses = courses[(courses['courseID'] == rounds.at[0, 'courseID']) & (courses['Tees'] == rounds.at[0, 'Tees'])].reset_index(drop = True)"
   ]
  },
  {
   "cell_type": "code",
   "execution_count": 10,
   "metadata": {},
   "outputs": [],
   "source": [
    "## Creating complete data-frame for analysis\n",
    "\n",
    "shotLevel, roundLevel = sg.initialize(shot, rounds, courses, baselines)"
   ]
  },
  {
   "cell_type": "code",
   "execution_count": 11,
   "metadata": {},
   "outputs": [],
   "source": [
    "## Exporting data-frames for analysis:\n",
    "\n",
    "shotLevel.to_csv('/Users/EvanCallaghan/Documents/Golf/StrokesGained/Reporting/shotLevel.csv', index = False)\n",
    "roundLevel.to_csv('/Users/EvanCallaghan/Documents/Golf/StrokesGained/Reporting/roundLevel.csv', index = False)\n",
    "courses.to_csv('/Users/EvanCallaghan/Documents/Golf/StrokesGained/Reporting/courseLevel.csv', index = False)"
   ]
  },
  {
   "cell_type": "code",
   "execution_count": null,
   "metadata": {},
   "outputs": [],
   "source": []
  }
 ],
 "metadata": {
  "kernelspec": {
   "display_name": "Python 3",
   "language": "python",
   "name": "python3"
  },
  "language_info": {
   "codemirror_mode": {
    "name": "ipython",
    "version": 3
   },
   "file_extension": ".py",
   "mimetype": "text/x-python",
   "name": "python",
   "nbconvert_exporter": "python",
   "pygments_lexer": "ipython3",
   "version": "3.8.3"
  }
 },
 "nbformat": 4,
 "nbformat_minor": 4
}
