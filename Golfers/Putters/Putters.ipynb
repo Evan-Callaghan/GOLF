{
 "cells": [
  {
   "cell_type": "code",
   "execution_count": 1,
   "id": "0b8ba9a5-c568-41dd-81e3-cff9aa3f295e",
   "metadata": {},
   "outputs": [],
   "source": [
    "## Importing libraries\n",
    "\n",
    "import pandas as pd\n",
    "import numpy as np\n",
    "import sys; sys.path.insert(1, '/Users/EvanCallaghan/Documents/Golf/StrokesGained/GOLF/GlobalScripts')\n",
    "pd.set_option('display.max_rows', None, 'display.max_columns', None)\n",
    "import putting_script as ps"
   ]
  },
  {
   "cell_type": "code",
   "execution_count": 2,
   "id": "51c4bbcc-92ca-4133-aaac-ac9e63320df9",
   "metadata": {},
   "outputs": [],
   "source": [
    "## Reading putting data\n",
    "\n",
    "baselines = pd.read_excel('/Users/EvanCallaghan/Documents/Golf/StrokesGained/PuttingDatabase/PuttBaselines.xlsx')\n",
    "golfers = pd.read_excel('/Users/EvanCallaghan/Documents/Golf/StrokesGained/PuttingDatabase/PuttGolfers.xlsx')\n",
    "rounds = pd.read_excel('/Users/EvanCallaghan/Documents/Golf/StrokesGained/PuttingDatabase/PuttRounds.xlsx')\n",
    "shots = pd.read_excel('/Users/EvanCallaghan/Documents/Golf/StrokesGained/PuttingDatabase/Putts.xlsx')"
   ]
  },
  {
   "cell_type": "code",
   "execution_count": null,
   "id": "08772da2-fd8b-428c-b8d7-ae0bee79b1a3",
   "metadata": {},
   "outputs": [],
   "source": [
    "## Subsetting the data for the correct golfer and round\n",
    "golfer = golfers[golfers['Name'] == 'Evan Callaghan'].reset_index(drop = True)\n",
    "rd = rounds[rounds['roundID'] == 1000].reset_index(drop = True)\n",
    "shot = shots[shots['roundID'] == 1000].reset_index(drop = True)\n",
    "\n",
    "## Creating complete data-frame for analysis\n",
    "puttLevel, puttRoundLevel = ps.initialize(shot, rd, baselines)\n",
    "\n",
    "## Exporting data-frames for analysis:\n",
    "puttLevel.to_csv('/Users/EvanCallaghan/Documents/Golf/StrokesGained/Reporting/puttLevel.csv', index = False)\n",
    "puttRoundLevel.to_csv('/Users/EvanCallaghan/Documents/Golf/StrokesGained/Reporting/puttRoundLevel.csv', index = False)"
   ]
  }
 ],
 "metadata": {
  "kernelspec": {
   "display_name": "Python 3 (ipykernel)",
   "language": "python",
   "name": "python3"
  },
  "language_info": {
   "codemirror_mode": {
    "name": "ipython",
    "version": 3
   },
   "file_extension": ".py",
   "mimetype": "text/x-python",
   "name": "python",
   "nbconvert_exporter": "python",
   "pygments_lexer": "ipython3",
   "version": "3.9.12"
  }
 },
 "nbformat": 4,
 "nbformat_minor": 5
}
