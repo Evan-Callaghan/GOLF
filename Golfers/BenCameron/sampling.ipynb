{
 "cells": [
  {
   "cell_type": "markdown",
   "metadata": {},
   "source": [
    "## Sample Report"
   ]
  },
  {
   "cell_type": "code",
   "execution_count": 1,
   "metadata": {},
   "outputs": [],
   "source": [
    "## Importing libraries\n",
    "\n",
    "import pandas as pd\n",
    "import numpy as np\n",
    "import sys; sys.path.insert(1, '/Users/EvanCallaghan/Documents/Golf/StrokesGained/GOLF/GlobalScripts')\n",
    "pd.set_option('display.max_rows', None, 'display.max_columns', None)\n",
    "import sg_script as sg"
   ]
  },
  {
   "cell_type": "code",
   "execution_count": 2,
   "metadata": {},
   "outputs": [],
   "source": [
    "## Reading the data\n",
    "\n",
    "baselines = pd.read_excel('/Users/EvanCallaghan/Documents/Golf/StrokesGained/Database/Baselines.xlsx')\n",
    "courses = pd.read_excel('/Users/EvanCallaghan/Documents/Golf/StrokesGained/Database/Courses.xlsx')\n",
    "golfers = pd.read_excel('/Users/EvanCallaghan/Documents/Golf/StrokesGained/Database/Golfers.xlsx')\n",
    "rounds = pd.read_excel('/Users/EvanCallaghan/Documents/Golf/StrokesGained/Database/Rounds.xlsx')\n",
    "shots = pd.read_excel('/Users/EvanCallaghan/Documents/Golf/StrokesGained/Database/Shots.xlsx')"
   ]
  },
  {
   "cell_type": "code",
   "execution_count": 3,
   "metadata": {},
   "outputs": [],
   "source": [
    "## Subsetting the data for the correct golfer and round\n",
    "\n",
    "## Golfer\n",
    "golfer = golfers[golfers['Name'] == 'Ben Cameron'].reset_index(drop = True)\n",
    "\n",
    "## Rounds\n",
    "rounds = rounds[rounds['roundID'] == 1028].reset_index(drop = True)\n",
    "\n",
    "## Shots\n",
    "shot = shots[shots['roundID'] == 1028]"
   ]
  },
  {
   "cell_type": "code",
   "execution_count": 4,
   "metadata": {},
   "outputs": [],
   "source": [
    "## Creating complete data-frame for analysis\n",
    "\n",
    "shotLevel, roundLevel = sg.initialize(shot, rounds, courses, baselines)"
   ]
  },
  {
   "cell_type": "code",
   "execution_count": 5,
   "metadata": {},
   "outputs": [
    {
     "data": {
      "text/html": [
       "<div>\n",
       "<style scoped>\n",
       "    .dataframe tbody tr th:only-of-type {\n",
       "        vertical-align: middle;\n",
       "    }\n",
       "\n",
       "    .dataframe tbody tr th {\n",
       "        vertical-align: top;\n",
       "    }\n",
       "\n",
       "    .dataframe thead th {\n",
       "        text-align: right;\n",
       "    }\n",
       "</style>\n",
       "<table border=\"1\" class=\"dataframe\">\n",
       "  <thead>\n",
       "    <tr style=\"text-align: right;\">\n",
       "      <th></th>\n",
       "      <th>roundID</th>\n",
       "      <th>golferID</th>\n",
       "      <th>Name</th>\n",
       "      <th>Date</th>\n",
       "      <th>courseID</th>\n",
       "      <th>Course</th>\n",
       "      <th>Tees</th>\n",
       "      <th>holesPlayed</th>\n",
       "      <th>roundLength</th>\n",
       "      <th>Weather</th>\n",
       "      <th>tournamentRound</th>\n",
       "      <th>Tournament</th>\n",
       "      <th>Notes</th>\n",
       "      <th>APP</th>\n",
       "      <th>ATG</th>\n",
       "      <th>PUTT</th>\n",
       "      <th>OTT</th>\n",
       "      <th>Score</th>\n",
       "      <th>SG: Total</th>\n",
       "      <th>Par</th>\n",
       "      <th>scoreToPar</th>\n",
       "    </tr>\n",
       "  </thead>\n",
       "  <tbody>\n",
       "    <tr>\n",
       "      <th>0</th>\n",
       "      <td>1028</td>\n",
       "      <td>8</td>\n",
       "      <td>Ben Cameron</td>\n",
       "      <td>2022-06-03</td>\n",
       "      <td>9</td>\n",
       "      <td>Abercrombie</td>\n",
       "      <td>Blue</td>\n",
       "      <td>18</td>\n",
       "      <td>4.5</td>\n",
       "      <td>Clear</td>\n",
       "      <td>0</td>\n",
       "      <td>NaN</td>\n",
       "      <td>NaN</td>\n",
       "      <td>-2.29</td>\n",
       "      <td>-2.41</td>\n",
       "      <td>-0.07</td>\n",
       "      <td>-1.61</td>\n",
       "      <td>74</td>\n",
       "      <td>-6.38</td>\n",
       "      <td>71</td>\n",
       "      <td>3</td>\n",
       "    </tr>\n",
       "  </tbody>\n",
       "</table>\n",
       "</div>"
      ],
      "text/plain": [
       "   roundID  golferID         Name       Date  courseID       Course  Tees  \\\n",
       "0     1028         8  Ben Cameron 2022-06-03         9  Abercrombie  Blue   \n",
       "\n",
       "   holesPlayed  roundLength Weather  tournamentRound Tournament Notes   APP  \\\n",
       "0           18          4.5   Clear                0        NaN   NaN -2.29   \n",
       "\n",
       "    ATG  PUTT   OTT  Score  SG: Total  Par  scoreToPar  \n",
       "0 -2.41 -0.07 -1.61     74      -6.38   71           3  "
      ]
     },
     "execution_count": 5,
     "metadata": {},
     "output_type": "execute_result"
    }
   ],
   "source": [
    "roundLevel"
   ]
  },
  {
   "cell_type": "code",
   "execution_count": 6,
   "metadata": {},
   "outputs": [
    {
     "data": {
      "text/plain": [
       "74"
      ]
     },
     "execution_count": 6,
     "metadata": {},
     "output_type": "execute_result"
    }
   ],
   "source": [
    "shotLevel['grossStrokes'].sum()"
   ]
  },
  {
   "cell_type": "code",
   "execution_count": 7,
   "metadata": {},
   "outputs": [
    {
     "data": {
      "text/plain": [
       "-6.38"
      ]
     },
     "execution_count": 7,
     "metadata": {},
     "output_type": "execute_result"
    }
   ],
   "source": [
    "shotLevel['strokesGained'].sum()"
   ]
  },
  {
   "cell_type": "code",
   "execution_count": 8,
   "metadata": {},
   "outputs": [
    {
     "data": {
      "text/plain": [
       "shotCategory\n",
       "Approach           -2.29\n",
       "Around-the-Green   -2.41\n",
       "Putt               -0.07\n",
       "Tee                -1.61\n",
       "Name: strokesGained, dtype: float64"
      ]
     },
     "execution_count": 8,
     "metadata": {},
     "output_type": "execute_result"
    }
   ],
   "source": [
    "shotLevel.groupby('shotCategory')['strokesGained'].sum()"
   ]
  },
  {
   "cell_type": "code",
   "execution_count": 9,
   "metadata": {},
   "outputs": [],
   "source": [
    "## Exporting data-frames for analysis:\n",
    "\n",
    "shotLevel.to_csv('/Users/EvanCallaghan/Documents/Golf/StrokesGained/Reporting/Test/BenMensLeague.csv', index = False)\n",
    "roundLevel.to_csv('/Users/EvanCallaghan/Documents/Golf/StrokesGained/Reporting/Test/BenMensLeagueRoundInfo.csv', index = False)"
   ]
  },
  {
   "cell_type": "code",
   "execution_count": null,
   "metadata": {},
   "outputs": [],
   "source": []
  }
 ],
 "metadata": {
  "kernelspec": {
   "display_name": "Python 3",
   "language": "python",
   "name": "python3"
  },
  "language_info": {
   "codemirror_mode": {
    "name": "ipython",
    "version": 3
   },
   "file_extension": ".py",
   "mimetype": "text/x-python",
   "name": "python",
   "nbconvert_exporter": "python",
   "pygments_lexer": "ipython3",
   "version": "3.8.3"
  }
 },
 "nbformat": 4,
 "nbformat_minor": 4
}
